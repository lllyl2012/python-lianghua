{
 "cells": [
  {
   "cell_type": "code",
   "execution_count": 11,
   "metadata": {},
   "outputs": [],
   "source": [
    "import numpy as np\n",
    "import pandas as pd"
   ]
  },
  {
   "cell_type": "code",
   "execution_count": 12,
   "metadata": {},
   "outputs": [
    {
     "data": {
      "text/html": [
       "<div>\n",
       "<style scoped>\n",
       "    .dataframe tbody tr th:only-of-type {\n",
       "        vertical-align: middle;\n",
       "    }\n",
       "\n",
       "    .dataframe tbody tr th {\n",
       "        vertical-align: top;\n",
       "    }\n",
       "\n",
       "    .dataframe thead th {\n",
       "        text-align: right;\n",
       "    }\n",
       "</style>\n",
       "<table border=\"1\" class=\"dataframe\">\n",
       "  <thead>\n",
       "    <tr style=\"text-align: right;\">\n",
       "      <th></th>\n",
       "      <th>total_turnover</th>\n",
       "      <th>open</th>\n",
       "      <th>limit_up</th>\n",
       "      <th>limit_down</th>\n",
       "      <th>high</th>\n",
       "      <th>num_trades</th>\n",
       "      <th>volume</th>\n",
       "      <th>low</th>\n",
       "      <th>close</th>\n",
       "    </tr>\n",
       "  </thead>\n",
       "  <tbody>\n",
       "    <tr>\n",
       "      <th>2017-01-03</th>\n",
       "      <td>4.205952e+08</td>\n",
       "      <td>8.7442</td>\n",
       "      <td>9.6081</td>\n",
       "      <td>7.8612</td>\n",
       "      <td>8.8114</td>\n",
       "      <td>13730.0</td>\n",
       "      <td>45984049.0</td>\n",
       "      <td>8.7250</td>\n",
       "      <td>8.7922</td>\n",
       "    </tr>\n",
       "    <tr>\n",
       "      <th>2017-01-04</th>\n",
       "      <td>4.115034e+08</td>\n",
       "      <td>8.7826</td>\n",
       "      <td>9.6753</td>\n",
       "      <td>7.9092</td>\n",
       "      <td>8.8114</td>\n",
       "      <td>11850.0</td>\n",
       "      <td>44932953.0</td>\n",
       "      <td>8.7730</td>\n",
       "      <td>8.7922</td>\n",
       "    </tr>\n",
       "    <tr>\n",
       "      <th>2017-01-05</th>\n",
       "      <td>3.157697e+08</td>\n",
       "      <td>8.8018</td>\n",
       "      <td>9.6753</td>\n",
       "      <td>7.9092</td>\n",
       "      <td>8.8114</td>\n",
       "      <td>11764.0</td>\n",
       "      <td>34437291.0</td>\n",
       "      <td>8.7826</td>\n",
       "      <td>8.8018</td>\n",
       "    </tr>\n",
       "    <tr>\n",
       "      <th>2017-01-06</th>\n",
       "      <td>3.271764e+08</td>\n",
       "      <td>8.8018</td>\n",
       "      <td>9.6849</td>\n",
       "      <td>7.9187</td>\n",
       "      <td>8.8018</td>\n",
       "      <td>14671.0</td>\n",
       "      <td>35815420.0</td>\n",
       "      <td>8.7442</td>\n",
       "      <td>8.7634</td>\n",
       "    </tr>\n",
       "  </tbody>\n",
       "</table>\n",
       "</div>"
      ],
      "text/plain": [
       "            total_turnover    open  limit_up  limit_down    high  num_trades  \\\n",
       "2017-01-03    4.205952e+08  8.7442    9.6081      7.8612  8.8114     13730.0   \n",
       "2017-01-04    4.115034e+08  8.7826    9.6753      7.9092  8.8114     11850.0   \n",
       "2017-01-05    3.157697e+08  8.8018    9.6753      7.9092  8.8114     11764.0   \n",
       "2017-01-06    3.271764e+08  8.8018    9.6849      7.9187  8.8018     14671.0   \n",
       "\n",
       "                volume     low   close  \n",
       "2017-01-03  45984049.0  8.7250  8.7922  \n",
       "2017-01-04  44932953.0  8.7730  8.7922  \n",
       "2017-01-05  34437291.0  8.7826  8.8018  \n",
       "2017-01-06  35815420.0  8.7442  8.7634  "
      ]
     },
     "execution_count": 12,
     "metadata": {},
     "output_type": "execute_result"
    }
   ],
   "source": [
    "get_price('000001.XSHE',start_date='2017-01-01',end_date='2017-01-06')"
   ]
  },
  {
   "cell_type": "code",
   "execution_count": 13,
   "metadata": {},
   "outputs": [
    {
     "data": {
      "text/html": [
       "<div>\n",
       "<style scoped>\n",
       "    .dataframe tbody tr th:only-of-type {\n",
       "        vertical-align: middle;\n",
       "    }\n",
       "\n",
       "    .dataframe tbody tr th {\n",
       "        vertical-align: top;\n",
       "    }\n",
       "\n",
       "    .dataframe thead th {\n",
       "        text-align: right;\n",
       "    }\n",
       "</style>\n",
       "<table border=\"1\" class=\"dataframe\">\n",
       "  <thead>\n",
       "    <tr style=\"text-align: right;\">\n",
       "      <th></th>\n",
       "      <th>000001.XSHE</th>\n",
       "      <th>000002.XSHE</th>\n",
       "    </tr>\n",
       "  </thead>\n",
       "  <tbody>\n",
       "    <tr>\n",
       "      <th>2017-01-03</th>\n",
       "      <td>8.7922</td>\n",
       "      <td>19.2937</td>\n",
       "    </tr>\n",
       "    <tr>\n",
       "      <th>2017-01-04</th>\n",
       "      <td>8.7922</td>\n",
       "      <td>19.4054</td>\n",
       "    </tr>\n",
       "    <tr>\n",
       "      <th>2017-01-05</th>\n",
       "      <td>8.8018</td>\n",
       "      <td>19.4798</td>\n",
       "    </tr>\n",
       "    <tr>\n",
       "      <th>2017-01-06</th>\n",
       "      <td>8.7634</td>\n",
       "      <td>19.2099</td>\n",
       "    </tr>\n",
       "  </tbody>\n",
       "</table>\n",
       "</div>"
      ],
      "text/plain": [
       "            000001.XSHE  000002.XSHE\n",
       "2017-01-03       8.7922      19.2937\n",
       "2017-01-04       8.7922      19.4054\n",
       "2017-01-05       8.8018      19.4798\n",
       "2017-01-06       8.7634      19.2099"
      ]
     },
     "execution_count": 13,
     "metadata": {},
     "output_type": "execute_result"
    }
   ],
   "source": [
    "#pandas里的panel结构\n",
    "get_price(['000001.XSHE','000002.XSHE'],start_date='2017-01-01',end_date='2017-01-07',fields='close')"
   ]
  },
  {
   "cell_type": "code",
   "execution_count": 14,
   "metadata": {},
   "outputs": [
    {
     "data": {
      "text/plain": [
       "[datetime.date(2019, 1, 2),\n",
       " datetime.date(2019, 1, 3),\n",
       " datetime.date(2019, 1, 4),\n",
       " datetime.date(2019, 1, 7),\n",
       " datetime.date(2019, 1, 8),\n",
       " datetime.date(2019, 1, 9)]"
      ]
     },
     "execution_count": 14,
     "metadata": {},
     "output_type": "execute_result"
    }
   ],
   "source": [
    "#获得交易日\n",
    "get_trading_dates(start_date='2019-01-01', end_date='2019-01-09', market='cn')"
   ]
  },
  {
   "cell_type": "code",
   "execution_count": 15,
   "metadata": {},
   "outputs": [
    {
     "name": "stderr",
     "output_type": "stream",
     "text": [
      "/usr/local/lib/python3.6/site-packages/rqdatac/services/financial.py:339: UserWarning: Panel will be deprecated. Please use 'expect_df=True' to get a MultiIndex DataFrame.\n",
      "  warnings.warn(\"Panel will be deprecated. Please use 'expect_df=True' to get a MultiIndex DataFrame.\")\n"
     ]
    }
   ],
   "source": [
    "#获取财务数据\n",
    "q = query(fundamentals.income_statement.revenue,\n",
    "         fundamentals.income_statement.cost_of_goods_sold,\n",
    "          fundamentals.eod_derivative_indicator.pe_ratio\n",
    "         )\n",
    "\n",
    "fund = get_fundamentals(q,entry_date='2018-01-02')"
   ]
  },
  {
   "cell_type": "code",
   "execution_count": 16,
   "metadata": {},
   "outputs": [
    {
     "data": {
      "text/html": [
       "<div>\n",
       "<style scoped>\n",
       "    .dataframe tbody tr th:only-of-type {\n",
       "        vertical-align: middle;\n",
       "    }\n",
       "\n",
       "    .dataframe tbody tr th {\n",
       "        vertical-align: top;\n",
       "    }\n",
       "\n",
       "    .dataframe thead th {\n",
       "        text-align: right;\n",
       "    }\n",
       "</style>\n",
       "<table border=\"1\" class=\"dataframe\">\n",
       "  <thead>\n",
       "    <tr style=\"text-align: right;\">\n",
       "      <th></th>\n",
       "      <th>revenue</th>\n",
       "      <th>cost_of_goods_sold</th>\n",
       "      <th>pe_ratio</th>\n",
       "    </tr>\n",
       "  </thead>\n",
       "  <tbody>\n",
       "    <tr>\n",
       "      <th>2018-01-02</th>\n",
       "      <td>7.9832e+10</td>\n",
       "      <td>NaN</td>\n",
       "      <td>10.1442</td>\n",
       "    </tr>\n",
       "  </tbody>\n",
       "</table>\n",
       "</div>"
      ],
      "text/plain": [
       "               revenue cost_of_goods_sold pe_ratio\n",
       "2018-01-02  7.9832e+10                NaN  10.1442"
      ]
     },
     "execution_count": 16,
     "metadata": {},
     "output_type": "execute_result"
    }
   ],
   "source": [
    "fund.minor_xs('000001.XSHE')"
   ]
  },
  {
   "cell_type": "code",
   "execution_count": 17,
   "metadata": {},
   "outputs": [
    {
     "name": "stdout",
     "output_type": "stream",
     "text": [
      "<class 'pandas.core.frame.DataFrame'>\n",
      "           600054.XSHG 600316.XSHG 000570.XSHE 000892.XSHE 000715.XSHE  \\\n",
      "2018-01-02     25.9351      334.01       68.19     18.2915     31.6029   \n",
      "\n",
      "           002099.XSHE 600685.XSHG 002441.XSHE 002197.XSHE 300101.XSHE  ...  \\\n",
      "2018-01-02     27.1992    -746.107     27.2347     149.542     242.137  ...   \n",
      "\n",
      "           002416.XSHE 002183.XSHE 002182.XSHE 002075.XSHE 603042.XSHG  \\\n",
      "2018-01-02     25.8615     25.7119     39.8738     50.4726     55.3581   \n",
      "\n",
      "           002184.XSHE 002074.XSHE 600977.XSHG 002893.XSHE 001872.XSHE  \n",
      "2018-01-02      203.56     29.9623     30.1534     64.0988      6.5806  \n",
      "\n",
      "[1 rows x 3469 columns]\n"
     ]
    },
    {
     "name": "stderr",
     "output_type": "stream",
     "text": [
      "/usr/local/lib/python3.6/site-packages/rqdatac/services/financial.py:339: UserWarning: Panel will be deprecated. Please use 'expect_df=True' to get a MultiIndex DataFrame.\n",
      "  warnings.warn(\"Panel will be deprecated. Please use 'expect_df=True' to get a MultiIndex DataFrame.\")\n"
     ]
    }
   ],
   "source": [
    "from scipy.stats.mstats import winsorize\n",
    "\n",
    "pe_ratio = get_fundamentals(query(fundamentals.eod_derivative_indicator.pe_ratio),entry_date='20180102')['pe_ratio']\n",
    "\n",
    "print(type(pe_ratio))\n",
    "print(pe_ratio)"
   ]
  },
  {
   "cell_type": "code",
   "execution_count": 18,
   "metadata": {},
   "outputs": [
    {
     "name": "stdout",
     "output_type": "stream",
     "text": [
      "600054.XSHG    25.9351\n",
      "600316.XSHG     334.01\n",
      "000570.XSHE      68.19\n",
      "000892.XSHE    18.2915\n",
      "000715.XSHE    31.6029\n",
      "002099.XSHE    27.1992\n",
      "600685.XSHG   -746.107\n",
      "002441.XSHE    27.2347\n",
      "002197.XSHE    149.542\n",
      "300101.XSHE    242.137\n",
      "Name: 2018-01-02 00:00:00, dtype: object\n",
      "600054.XSHG    25.9351\n",
      "600316.XSHG     334.01\n",
      "000570.XSHE      68.19\n",
      "000892.XSHE    18.2915\n",
      "000715.XSHE    31.6029\n",
      "002099.XSHE    27.1992\n",
      "600685.XSHG   -43.5758\n",
      "002441.XSHE    27.2347\n",
      "002197.XSHE    149.542\n",
      "300101.XSHE    242.137\n",
      "Name: 2018-01-02 00:00:00, dtype: object\n"
     ]
    }
   ],
   "source": [
    "#一、对pe_ration进行百分比去极值\n",
    "fund['pe_ratio_winsorize'] = winsorize(pe_ratio,limits=0.025)\n",
    "\n",
    "print(fund['pe_ratio'].iloc[0,:10])\n",
    "print(fund['pe_ratio_winsorize'].iloc[0,:10])"
   ]
  },
  {
   "cell_type": "code",
   "execution_count": 19,
   "metadata": {},
   "outputs": [
    {
     "data": {
      "text/plain": [
       "<matplotlib.axes._subplots.AxesSubplot at 0x7ff123ce1588>"
      ]
     },
     "execution_count": 19,
     "metadata": {},
     "output_type": "execute_result"
    },
    {
     "data": {
      "image/png": "[encoded data removed]",
      "text/plain": [
       "<Figure size 432x288 with 1 Axes>"
      ]
     },
     "metadata": {
      "needs_background": "light"
     },
     "output_type": "display_data"
    }
   ],
   "source": [
    "fund['pe_ratio'].iloc[0,:100].plot()\n",
    "fund['pe_ratio_winsorize'].iloc[0,:100].plot()"
   ]
  },
  {
   "cell_type": "code",
   "execution_count": 20,
   "metadata": {},
   "outputs": [],
   "source": [
    "#二、实现中位数绝对偏差去极值\n",
    "#1、找出因子的中位数median\n",
    "#2、得到每个因子值与中位数的绝对偏差值｜x-median｜\n",
    "#3、得到绝对偏差值的中位数，MAD,median(|x-median|)\n",
    "#4、计算MAD_e = 1.4826*MAD,然后确定参数n,做出调整\n",
    "\n",
    "def mad(factor):\n",
    "    #1、\n",
    "    me = np.median(factor)\n",
    "    \n",
    "    #2、3、\n",
    "    mad = np.median(abs(factor - me))\n",
    "    \n",
    "    up = me + (3 * 1.4826 * mad)\n",
    "    down = me - (3 * 1.4826 * mad)\n",
    "    \n",
    "    #利用3倍中位数的值去极值\n",
    "    factor = np.where(factor > up,up,factor)\n",
    "    factor = np.where(factor < down,down,factor)\n",
    "    \n",
    "    return factor"
   ]
  },
  {
   "cell_type": "code",
   "execution_count": 21,
   "metadata": {},
   "outputs": [],
   "source": [
    "\n",
    "fund['pe_ratio_3mad'] = mad(fund['pe_ratio'])"
   ]
  },
  {
   "cell_type": "code",
   "execution_count": 22,
   "metadata": {},
   "outputs": [
    {
     "data": {
      "text/plain": [
       "<matplotlib.axes._subplots.AxesSubplot at 0x7ff1236e4358>"
      ]
     },
     "execution_count": 22,
     "metadata": {},
     "output_type": "execute_result"
    },
    {
     "data": {
      "image/png": "[encoded data removed]",
      "text/plain": [
       "<Figure size 432x288 with 1 Axes>"
      ]
     },
     "metadata": {
      "needs_background": "light"
     },
     "output_type": "display_data"
    }
   ],
   "source": [
    "fund['pe_ratio'].iloc[0,:100].plot()\n",
    "fund['pe_ratio_3mad'].iloc[0,:100].plot()"
   ]
  },
  {
   "cell_type": "code",
   "execution_count": 50,
   "metadata": {},
   "outputs": [],
   "source": [
    "#3、3sigma标准差去极值的方法\n",
    "def threesigma(factor):\n",
    "    #计算平均值和标准差\n",
    "    mean = factor.mean()\n",
    "    \n",
    "    std = factor.std()\n",
    "    print(std)\n",
    "    \n",
    "    #计算上下限的数据\n",
    "    up = mean + 3*std\n",
    "    down = mean - 3*std\n",
    "   \n",
    "    \n",
    "    #替换极值\n",
    "    factor = np.where(factor>up,up,factor)\n",
    "    print((factor<down).shape)\n",
    "    factor = np.where(factor<down,down,factor)\n",
    "    \n",
    "    return factor\n"
   ]
  },
  {
   "cell_type": "code",
   "execution_count": 51,
   "metadata": {},
   "outputs": [
    {
     "name": "stdout",
     "output_type": "stream",
     "text": [
      "205.15385142242005\n",
      "(1, 3469)\n"
     ]
    }
   ],
   "source": [
    "aa = fund['pe_ratio'].values\n",
    "fund['pe_ratio_3sigma'] = threesigma(aa)\n"
   ]
  },
  {
   "cell_type": "code",
   "execution_count": 54,
   "metadata": {},
   "outputs": [
    {
     "data": {
      "text/plain": [
       "<matplotlib.axes._subplots.AxesSubplot at 0x7ff117794e10>"
      ]
     },
     "execution_count": 54,
     "metadata": {},
     "output_type": "execute_result"
    },
    {
     "data": {
      "image/png": "[encoded data removed]",
      "text/plain": [
       "<Figure size 432x288 with 1 Axes>"
      ]
     },
     "metadata": {
      "needs_background": "light"
     },
     "output_type": "display_data"
    }
   ],
   "source": [
    "fund['pe_ratio'].iloc[0,:100].plot()\n",
    "fund['pe_ratio_3sigma'].iloc[0,:100].plot()"
   ]
  },
  {
   "cell_type": "code",
   "execution_count": 55,
   "metadata": {},
   "outputs": [],
   "source": [
    "#二、标准化处理\n",
    "from sklearn.preprocessing import StandardScaler"
   ]
  },
  {
   "cell_type": "code",
   "execution_count": 56,
   "metadata": {},
   "outputs": [
    {
     "name": "stdout",
     "output_type": "stream",
     "text": [
      "           600054.XSHG 600316.XSHG 000570.XSHE 000892.XSHE 000715.XSHE  \\\n",
      "2018-01-02     25.9351     124.887       68.19     18.2915     31.6029   \n",
      "\n",
      "           002099.XSHE 600685.XSHG 002441.XSHE 002197.XSHE 300101.XSHE  ...  \\\n",
      "2018-01-02     27.1992    -45.6799     27.2347     124.887     124.887  ...   \n",
      "\n",
      "           002416.XSHE 002183.XSHE 002182.XSHE 002075.XSHE 603042.XSHG  \\\n",
      "2018-01-02     25.8615     25.7119     39.8738     50.4726     55.3581   \n",
      "\n",
      "           002184.XSHE 002074.XSHE 600977.XSHG 002893.XSHE 001872.XSHE  \n",
      "2018-01-02     124.887     29.9623     30.1534     64.0988      6.5806  \n",
      "\n",
      "[1 rows x 3469 columns]\n"
     ]
    },
    {
     "data": {
      "text/plain": [
       "array([[0., 0., 0., ..., 0., 0., 0.]])"
      ]
     },
     "execution_count": 56,
     "metadata": {},
     "output_type": "execute_result"
    }
   ],
   "source": [
    "std = StandardScaler()\n",
    "print(fund['pe_ratio_3mad'])\n",
    "std.fit_transform(fund['pe_ratio_3mad'].dropna())"
   ]
  },
  {
   "cell_type": "code",
   "execution_count": 57,
   "metadata": {},
   "outputs": [],
   "source": [
    "#自己实现标准化\n",
    "def stand(factor):\n",
    "    mean = factor.mean()\n",
    "    std = factor.std()\n",
    "    \n",
    "    return (factor - mean)/std"
   ]
  },
  {
   "cell_type": "code",
   "execution_count": 59,
   "metadata": {},
   "outputs": [
    {
     "name": "stdout",
     "output_type": "stream",
     "text": [
      "[[-0.23434050621390184 1.2673349332866815 -0.028373619864810323 ...\n",
      "  -0.21377886444723398 -0.04831572658927076 -0.32868189861675906]]\n"
     ]
    }
   ],
   "source": [
    "print(stand(fund['pe_ratio'].values))\n",
    "fund['pe_ration_stand'] = stand(fund['pe_ratio'].values)\n"
   ]
  },
  {
   "cell_type": "code",
   "execution_count": 65,
   "metadata": {},
   "outputs": [
    {
     "name": "stderr",
     "output_type": "stream",
     "text": [
      "/usr/local/lib/python3.6/site-packages/rqdatac/services/financial.py:339: UserWarning: Panel will be deprecated. Please use 'expect_df=True' to get a MultiIndex DataFrame.\n",
      "  warnings.warn(\"Panel will be deprecated. Please use 'expect_df=True' to get a MultiIndex DataFrame.\")\n"
     ]
    },
    {
     "data": {
      "text/html": [
       "<div>\n",
       "<style scoped>\n",
       "    .dataframe tbody tr th:only-of-type {\n",
       "        vertical-align: middle;\n",
       "    }\n",
       "\n",
       "    .dataframe tbody tr th {\n",
       "        vertical-align: top;\n",
       "    }\n",
       "\n",
       "    .dataframe thead th {\n",
       "        text-align: right;\n",
       "    }\n",
       "</style>\n",
       "<table border=\"1\" class=\"dataframe\">\n",
       "  <thead>\n",
       "    <tr style=\"text-align: right;\">\n",
       "      <th></th>\n",
       "      <th>pb_ratio</th>\n",
       "      <th>market_cap</th>\n",
       "      <th>pb_ratio_middle</th>\n",
       "    </tr>\n",
       "  </thead>\n",
       "  <tbody>\n",
       "    <tr>\n",
       "      <th>600073.XSHG</th>\n",
       "      <td>-0.740255</td>\n",
       "      <td>7.7644e+09</td>\n",
       "      <td>-0.749067</td>\n",
       "    </tr>\n",
       "    <tr>\n",
       "      <th>000612.XSHE</th>\n",
       "      <td>-0.661729</td>\n",
       "      <td>1.10994e+10</td>\n",
       "      <td>-0.667813</td>\n",
       "    </tr>\n",
       "    <tr>\n",
       "      <th>600033.XSHG</th>\n",
       "      <td>-1.21741</td>\n",
       "      <td>1.00994e+10</td>\n",
       "      <td>-1.22431</td>\n",
       "    </tr>\n",
       "    <tr>\n",
       "      <th>000017.XSHE</th>\n",
       "      <td>2.33605</td>\n",
       "      <td>3.47901e+09</td>\n",
       "      <td>2.32373</td>\n",
       "    </tr>\n",
       "    <tr>\n",
       "      <th>600470.XSHG</th>\n",
       "      <td>-1.07436</td>\n",
       "      <td>3.04614e+09</td>\n",
       "      <td>-1.08703</td>\n",
       "    </tr>\n",
       "    <tr>\n",
       "      <th>600865.XSHG</th>\n",
       "      <td>-0.928939</td>\n",
       "      <td>3.01368e+09</td>\n",
       "      <td>-0.941639</td>\n",
       "    </tr>\n",
       "    <tr>\n",
       "      <th>002402.XSHE</th>\n",
       "      <td>1.0341</td>\n",
       "      <td>7.92596e+09</td>\n",
       "      <td>1.02542</td>\n",
       "    </tr>\n",
       "    <tr>\n",
       "      <th>002368.XSHE</th>\n",
       "      <td>0.131386</td>\n",
       "      <td>1.06382e+10</td>\n",
       "      <td>0.124925</td>\n",
       "    </tr>\n",
       "    <tr>\n",
       "      <th>002602.XSHE</th>\n",
       "      <td>1.43175</td>\n",
       "      <td>3.46233e+10</td>\n",
       "      <td>1.44492</td>\n",
       "    </tr>\n",
       "    <tr>\n",
       "      <th>601908.XSHG</th>\n",
       "      <td>-0.981599</td>\n",
       "      <td>1.09542e+10</td>\n",
       "      <td>-0.987802</td>\n",
       "    </tr>\n",
       "    <tr>\n",
       "      <th>300190.XSHE</th>\n",
       "      <td>-1.04445</td>\n",
       "      <td>5.53597e+09</td>\n",
       "      <td>-1.05508</td>\n",
       "    </tr>\n",
       "    <tr>\n",
       "      <th>603101.XSHG</th>\n",
       "      <td>-0.582832</td>\n",
       "      <td>3.2664e+09</td>\n",
       "      <td>-0.595325</td>\n",
       "    </tr>\n",
       "    <tr>\n",
       "      <th>603239.XSHG</th>\n",
       "      <td>0.789734</td>\n",
       "      <td>5.44147e+09</td>\n",
       "      <td>0.779021</td>\n",
       "    </tr>\n",
       "    <tr>\n",
       "      <th>603698.XSHG</th>\n",
       "      <td>-0.206766</td>\n",
       "      <td>8.30784e+09</td>\n",
       "      <td>-0.215134</td>\n",
       "    </tr>\n",
       "    <tr>\n",
       "      <th>603117.XSHG</th>\n",
       "      <td>-0.823572</td>\n",
       "      <td>4.57698e+09</td>\n",
       "      <td>-0.834992</td>\n",
       "    </tr>\n",
       "    <tr>\n",
       "      <th>300585.XSHE</th>\n",
       "      <td>1.50758</td>\n",
       "      <td>3.1424e+09</td>\n",
       "      <td>1.49499</td>\n",
       "    </tr>\n",
       "    <tr>\n",
       "      <th>300642.XSHE</th>\n",
       "      <td>1.08537</td>\n",
       "      <td>5.4756e+09</td>\n",
       "      <td>1.07468</td>\n",
       "    </tr>\n",
       "    <tr>\n",
       "      <th>600863.XSHG</th>\n",
       "      <td>-0.964294</td>\n",
       "      <td>1.74232e+10</td>\n",
       "      <td>-0.965203</td>\n",
       "    </tr>\n",
       "    <tr>\n",
       "      <th>000007.XSHE</th>\n",
       "      <td>2.33605</td>\n",
       "      <td>5.77182e+09</td>\n",
       "      <td>2.32561</td>\n",
       "    </tr>\n",
       "    <tr>\n",
       "      <th>600039.XSHG</th>\n",
       "      <td>-1.22955</td>\n",
       "      <td>1.48754e+10</td>\n",
       "      <td>-1.23254</td>\n",
       "    </tr>\n",
       "    <tr>\n",
       "      <th>000613.XSHE</th>\n",
       "      <td>2.33605</td>\n",
       "      <td>2.87275e+09</td>\n",
       "      <td>2.32324</td>\n",
       "    </tr>\n",
       "    <tr>\n",
       "      <th>600475.XSHG</th>\n",
       "      <td>-0.902655</td>\n",
       "      <td>8.20628e+09</td>\n",
       "      <td>-0.911106</td>\n",
       "    </tr>\n",
       "    <tr>\n",
       "      <th>002629.XSHE</th>\n",
       "      <td>0.380592</td>\n",
       "      <td>2.95367e+09</td>\n",
       "      <td>0.367844</td>\n",
       "    </tr>\n",
       "    <tr>\n",
       "      <th>002607.XSHE</th>\n",
       "      <td>-0.94764</td>\n",
       "      <td>3.33056e+09</td>\n",
       "      <td>-0.96008</td>\n",
       "    </tr>\n",
       "    <tr>\n",
       "      <th>002403.XSHE</th>\n",
       "      <td>-0.85046</td>\n",
       "      <td>4.30895e+09</td>\n",
       "      <td>-0.8621</td>\n",
       "    </tr>\n",
       "    <tr>\n",
       "      <th>603726.XSHG</th>\n",
       "      <td>-0.101678</td>\n",
       "      <td>2.91075e+09</td>\n",
       "      <td>-0.114462</td>\n",
       "    </tr>\n",
       "    <tr>\n",
       "      <th>603158.XSHG</th>\n",
       "      <td>0.123989</td>\n",
       "      <td>4.03269e+09</td>\n",
       "      <td>0.112124</td>\n",
       "    </tr>\n",
       "    <tr>\n",
       "      <th>601011.XSHG</th>\n",
       "      <td>-0.562735</td>\n",
       "      <td>1.46454e+10</td>\n",
       "      <td>-0.565917</td>\n",
       "    </tr>\n",
       "    <tr>\n",
       "      <th>300604.XSHE</th>\n",
       "      <td>2.33605</td>\n",
       "      <td>4.79236e+09</td>\n",
       "      <td>2.32481</td>\n",
       "    </tr>\n",
       "    <tr>\n",
       "      <th>603528.XSHG</th>\n",
       "      <td>0.153343</td>\n",
       "      <td>5.59896e+09</td>\n",
       "      <td>0.142759</td>\n",
       "    </tr>\n",
       "    <tr>\n",
       "      <th>...</th>\n",
       "      <td>...</td>\n",
       "      <td>...</td>\n",
       "      <td>...</td>\n",
       "    </tr>\n",
       "    <tr>\n",
       "      <th>600633.XSHG</th>\n",
       "      <td>-0.591671</td>\n",
       "      <td>1.96851e+10</td>\n",
       "      <td>-0.590729</td>\n",
       "    </tr>\n",
       "    <tr>\n",
       "      <th>300505.XSHE</th>\n",
       "      <td>0.329607</td>\n",
       "      <td>2.99406e+09</td>\n",
       "      <td>0.316891</td>\n",
       "    </tr>\n",
       "    <tr>\n",
       "      <th>300357.XSHE</th>\n",
       "      <td>2.33605</td>\n",
       "      <td>8.06707e+09</td>\n",
       "      <td>2.32749</td>\n",
       "    </tr>\n",
       "    <tr>\n",
       "      <th>002226.XSHE</th>\n",
       "      <td>-1.00193</td>\n",
       "      <td>5.78662e+09</td>\n",
       "      <td>-1.01236</td>\n",
       "    </tr>\n",
       "    <tr>\n",
       "      <th>300436.XSHE</th>\n",
       "      <td>1.78963</td>\n",
       "      <td>4.20991e+09</td>\n",
       "      <td>1.77791</td>\n",
       "    </tr>\n",
       "    <tr>\n",
       "      <th>300543.XSHE</th>\n",
       "      <td>0.935852</td>\n",
       "      <td>3.7872e+09</td>\n",
       "      <td>0.923786</td>\n",
       "    </tr>\n",
       "    <tr>\n",
       "      <th>600190.XSHG</th>\n",
       "      <td>-1.10511</td>\n",
       "      <td>8.44967e+09</td>\n",
       "      <td>-1.11336</td>\n",
       "    </tr>\n",
       "    <tr>\n",
       "      <th>600191.XSHG</th>\n",
       "      <td>-0.91582</td>\n",
       "      <td>3.71458e+09</td>\n",
       "      <td>-0.927947</td>\n",
       "    </tr>\n",
       "    <tr>\n",
       "      <th>600192.XSHG</th>\n",
       "      <td>-1.0538</td>\n",
       "      <td>2.95529e+09</td>\n",
       "      <td>-1.06655</td>\n",
       "    </tr>\n",
       "    <tr>\n",
       "      <th>300545.XSHE</th>\n",
       "      <td>2.33605</td>\n",
       "      <td>4.76285e+09</td>\n",
       "      <td>2.32479</td>\n",
       "    </tr>\n",
       "    <tr>\n",
       "      <th>000780.XSHE</th>\n",
       "      <td>-1.24076</td>\n",
       "      <td>5.12225e+09</td>\n",
       "      <td>-1.25174</td>\n",
       "    </tr>\n",
       "    <tr>\n",
       "      <th>603357.XSHG</th>\n",
       "      <td>0.121524</td>\n",
       "      <td>7.28567e+09</td>\n",
       "      <td>0.11232</td>\n",
       "    </tr>\n",
       "    <tr>\n",
       "      <th>002429.XSHE</th>\n",
       "      <td>-0.829991</td>\n",
       "      <td>1.64328e+10</td>\n",
       "      <td>-0.831711</td>\n",
       "    </tr>\n",
       "    <tr>\n",
       "      <th>300570.XSHE</th>\n",
       "      <td>0.305835</td>\n",
       "      <td>4.94723e+09</td>\n",
       "      <td>0.294718</td>\n",
       "    </tr>\n",
       "    <tr>\n",
       "      <th>300581.XSHE</th>\n",
       "      <td>0.57244</td>\n",
       "      <td>2.80059e+09</td>\n",
       "      <td>0.559566</td>\n",
       "    </tr>\n",
       "    <tr>\n",
       "      <th>300498.XSHE</th>\n",
       "      <td>0.0587687</td>\n",
       "      <td>1.27377e+11</td>\n",
       "      <td>0.147829</td>\n",
       "    </tr>\n",
       "    <tr>\n",
       "      <th>000166.XSHE</th>\n",
       "      <td>-0.850227</td>\n",
       "      <td>1.07704e+11</td>\n",
       "      <td>-0.777264</td>\n",
       "    </tr>\n",
       "    <tr>\n",
       "      <th>300360.XSHE</th>\n",
       "      <td>-0.726811</td>\n",
       "      <td>4.55087e+09</td>\n",
       "      <td>-0.738252</td>\n",
       "    </tr>\n",
       "    <tr>\n",
       "      <th>002866.XSHE</th>\n",
       "      <td>0.992746</td>\n",
       "      <td>5.27254e+09</td>\n",
       "      <td>0.981895</td>\n",
       "    </tr>\n",
       "    <tr>\n",
       "      <th>300373.XSHE</th>\n",
       "      <td>1.10016</td>\n",
       "      <td>1.39385e+10</td>\n",
       "      <td>1.0964</td>\n",
       "    </tr>\n",
       "    <tr>\n",
       "      <th>002748.XSHE</th>\n",
       "      <td>-0.295851</td>\n",
       "      <td>3.6456e+09</td>\n",
       "      <td>-0.308034</td>\n",
       "    </tr>\n",
       "    <tr>\n",
       "      <th>601579.XSHG</th>\n",
       "      <td>-0.838877</td>\n",
       "      <td>5.98324e+09</td>\n",
       "      <td>-0.849147</td>\n",
       "    </tr>\n",
       "    <tr>\n",
       "      <th>002707.XSHE</th>\n",
       "      <td>0.323373</td>\n",
       "      <td>9.29116e+09</td>\n",
       "      <td>0.31581</td>\n",
       "    </tr>\n",
       "    <tr>\n",
       "      <th>002843.XSHE</th>\n",
       "      <td>0.635056</td>\n",
       "      <td>3.13996e+09</td>\n",
       "      <td>0.622459</td>\n",
       "    </tr>\n",
       "    <tr>\n",
       "      <th>600977.XSHG</th>\n",
       "      <td>-0.449646</td>\n",
       "      <td>2.90692e+10</td>\n",
       "      <td>-0.441026</td>\n",
       "    </tr>\n",
       "    <tr>\n",
       "      <th>300363.XSHE</th>\n",
       "      <td>0.162461</td>\n",
       "      <td>5.67849e+09</td>\n",
       "      <td>0.151942</td>\n",
       "    </tr>\n",
       "    <tr>\n",
       "      <th>300531.XSHE</th>\n",
       "      <td>1.74464</td>\n",
       "      <td>4.494e+09</td>\n",
       "      <td>1.73316</td>\n",
       "    </tr>\n",
       "    <tr>\n",
       "      <th>002705.XSHE</th>\n",
       "      <td>-0.456484</td>\n",
       "      <td>1.04364e+10</td>\n",
       "      <td>-0.46311</td>\n",
       "    </tr>\n",
       "    <tr>\n",
       "      <th>601211.XSHG</th>\n",
       "      <td>-1.06375</td>\n",
       "      <td>1.67133e+11</td>\n",
       "      <td>-0.942162</td>\n",
       "    </tr>\n",
       "    <tr>\n",
       "      <th>001872.XSHE</th>\n",
       "      <td>-0.287199</td>\n",
       "      <td>1.55646e+10</td>\n",
       "      <td>-0.289629</td>\n",
       "    </tr>\n",
       "  </tbody>\n",
       "</table>\n",
       "<p>3470 rows × 3 columns</p>\n",
       "</div>"
      ],
      "text/plain": [
       "              pb_ratio   market_cap pb_ratio_middle\n",
       "600073.XSHG  -0.740255   7.7644e+09       -0.749067\n",
       "000612.XSHE  -0.661729  1.10994e+10       -0.667813\n",
       "600033.XSHG   -1.21741  1.00994e+10        -1.22431\n",
       "000017.XSHE    2.33605  3.47901e+09         2.32373\n",
       "600470.XSHG   -1.07436  3.04614e+09        -1.08703\n",
       "600865.XSHG  -0.928939  3.01368e+09       -0.941639\n",
       "002402.XSHE     1.0341  7.92596e+09         1.02542\n",
       "002368.XSHE   0.131386  1.06382e+10        0.124925\n",
       "002602.XSHE    1.43175  3.46233e+10         1.44492\n",
       "601908.XSHG  -0.981599  1.09542e+10       -0.987802\n",
       "300190.XSHE   -1.04445  5.53597e+09        -1.05508\n",
       "603101.XSHG  -0.582832   3.2664e+09       -0.595325\n",
       "603239.XSHG   0.789734  5.44147e+09        0.779021\n",
       "603698.XSHG  -0.206766  8.30784e+09       -0.215134\n",
       "603117.XSHG  -0.823572  4.57698e+09       -0.834992\n",
       "300585.XSHE    1.50758   3.1424e+09         1.49499\n",
       "300642.XSHE    1.08537   5.4756e+09         1.07468\n",
       "600863.XSHG  -0.964294  1.74232e+10       -0.965203\n",
       "000007.XSHE    2.33605  5.77182e+09         2.32561\n",
       "600039.XSHG   -1.22955  1.48754e+10        -1.23254\n",
       "000613.XSHE    2.33605  2.87275e+09         2.32324\n",
       "600475.XSHG  -0.902655  8.20628e+09       -0.911106\n",
       "002629.XSHE   0.380592  2.95367e+09        0.367844\n",
       "002607.XSHE   -0.94764  3.33056e+09        -0.96008\n",
       "002403.XSHE   -0.85046  4.30895e+09         -0.8621\n",
       "603726.XSHG  -0.101678  2.91075e+09       -0.114462\n",
       "603158.XSHG   0.123989  4.03269e+09        0.112124\n",
       "601011.XSHG  -0.562735  1.46454e+10       -0.565917\n",
       "300604.XSHE    2.33605  4.79236e+09         2.32481\n",
       "603528.XSHG   0.153343  5.59896e+09        0.142759\n",
       "...                ...          ...             ...\n",
       "600633.XSHG  -0.591671  1.96851e+10       -0.590729\n",
       "300505.XSHE   0.329607  2.99406e+09        0.316891\n",
       "300357.XSHE    2.33605  8.06707e+09         2.32749\n",
       "002226.XSHE   -1.00193  5.78662e+09        -1.01236\n",
       "300436.XSHE    1.78963  4.20991e+09         1.77791\n",
       "300543.XSHE   0.935852   3.7872e+09        0.923786\n",
       "600190.XSHG   -1.10511  8.44967e+09        -1.11336\n",
       "600191.XSHG   -0.91582  3.71458e+09       -0.927947\n",
       "600192.XSHG    -1.0538  2.95529e+09        -1.06655\n",
       "300545.XSHE    2.33605  4.76285e+09         2.32479\n",
       "000780.XSHE   -1.24076  5.12225e+09        -1.25174\n",
       "603357.XSHG   0.121524  7.28567e+09         0.11232\n",
       "002429.XSHE  -0.829991  1.64328e+10       -0.831711\n",
       "300570.XSHE   0.305835  4.94723e+09        0.294718\n",
       "300581.XSHE    0.57244  2.80059e+09        0.559566\n",
       "300498.XSHE  0.0587687  1.27377e+11        0.147829\n",
       "000166.XSHE  -0.850227  1.07704e+11       -0.777264\n",
       "300360.XSHE  -0.726811  4.55087e+09       -0.738252\n",
       "002866.XSHE   0.992746  5.27254e+09        0.981895\n",
       "300373.XSHE    1.10016  1.39385e+10          1.0964\n",
       "002748.XSHE  -0.295851   3.6456e+09       -0.308034\n",
       "601579.XSHG  -0.838877  5.98324e+09       -0.849147\n",
       "002707.XSHE   0.323373  9.29116e+09         0.31581\n",
       "002843.XSHE   0.635056  3.13996e+09        0.622459\n",
       "600977.XSHG  -0.449646  2.90692e+10       -0.441026\n",
       "300363.XSHE   0.162461  5.67849e+09        0.151942\n",
       "300531.XSHE    1.74464    4.494e+09         1.73316\n",
       "002705.XSHE  -0.456484  1.04364e+10        -0.46311\n",
       "601211.XSHG   -1.06375  1.67133e+11       -0.942162\n",
       "001872.XSHE  -0.287199  1.55646e+10       -0.289629\n",
       "\n",
       "[3470 rows x 3 columns]"
      ]
     },
     "execution_count": 65,
     "metadata": {},
     "output_type": "execute_result"
    }
   ],
   "source": [
    "from sklearn.linear_model import LinearRegression\n",
    "\n",
    "#三、数据中性化\n",
    "#获得两个因子的数据\n",
    "q = query(fundamentals.eod_derivative_indicator.pb_ratio,\n",
    "    fundamentals.eod_derivative_indicator.market_cap)\n",
    "    \n",
    "#获取的是某一天的横截面数据\n",
    "factor = get_fundamentals(q,entry_date='2018-01-03').major_xs('2018-01-03 00:00:00')\n",
    "\n",
    "#factor是一个DataFrame\n",
    "#print(type(factor))\n",
    "\n",
    "#先对pb_ratio进行去极值标准化处理\n",
    "factor['pb_ratio'] = mad(factor['pb_ratio'].values)\n",
    "factor['pb_ratio'] = stand(factor['pb_ratio'].values)\n",
    "\n",
    "#确定回归的数据\n",
    "#x：市值\n",
    "#y:因子数据\n",
    "x = factor['market_cap'].values.reshape(-1,1)\n",
    "\n",
    "y = factor['pb_ratio'].values\n",
    "\n",
    "#建立回归方程并预测\n",
    "lr = LinearRegression()\n",
    "lr.fit(x,y)\n",
    "y_predict = lr.predict(x)\n",
    "\n",
    "#去除线性的关系，留下误差作为该因子的值\n",
    "factor['pb_ratio_middle'] = y-y_predict\n",
    "\n",
    "factor"
   ]
  },
  {
   "cell_type": "code",
   "execution_count": null,
   "metadata": {},
   "outputs": [],
   "source": []
  },
  {
   "cell_type": "code",
   "execution_count": null,
   "metadata": {},
   "outputs": [],
   "source": []
  },
  {
   "cell_type": "code",
   "execution_count": null,
   "metadata": {},
   "outputs": [],
   "source": []
  }
 ],
 "metadata": {
  "kernelspec": {
   "display_name": "Python 3",
   "language": "python",
   "name": "python3"
  },
  "language_info": {
   "codemirror_mode": {
    "name": "ipython",
    "version": 3
   },
   "file_extension": ".py",
   "mimetype": "text/x-python",
   "name": "python",
   "nbconvert_exporter": "python",
   "pygments_lexer": "ipython3",
   "version": "3.6.8"
  }
 },
 "nbformat": 4,
 "nbformat_minor": 2
}
