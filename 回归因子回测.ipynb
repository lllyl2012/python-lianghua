{
 "cells": [
  {
   "cell_type": "markdown",
   "metadata": {},
   "source": [
    "# 1、回测区间：回归(2014-01-01~2016-01-01)\n",
    "#           回测2016-01-01  ~  2018-01-01\n",
    "# 2、选股：\n",
    "#   选股区间：沪深300\n",
    "#   选股因子：经过因子分析之后的若干因子，可以不知方向\n",
    "#   选股权重：回归训练的权重\n",
    "#   数据处理：缺失值、去极值、标准化、市值中心化处理（防止选股集中）\n",
    "# 3、调仓周期：\n",
    "#   调仓：每月进行一次调仓\n",
    "#   交易规则：卖出已持有的股票\n",
    "#          买入新的股票池当中的股票"
   ]
  },
  {
   "cell_type": "code",
   "execution_count": 96,
   "metadata": {},
   "outputs": [],
   "source": [
    "import pandas as pd\n",
    "import numpy as np\n",
    "from sklearn.linear_model import LinearRegression"
   ]
  },
  {
   "cell_type": "code",
   "execution_count": 97,
   "metadata": {},
   "outputs": [],
   "source": [
    "dates = get_trading_dates(start_date='2016-01-01',end_date='2016-07-01')"
   ]
  },
  {
   "cell_type": "code",
   "execution_count": 98,
   "metadata": {},
   "outputs": [],
   "source": [
    "#每天日期--》每月月末\n",
    "#每月最后一个交易日，按月计算收益率\n",
    "month_date = []\n",
    "for i in range(len(dates)-1):\n",
    "    if dates[i].year != dates[i+1].year:\n",
    "        month_date.append(dates[i])\n",
    "    elif dates[i].month != dates[i+1].month:\n",
    "        month_date.append(dates[i])\n",
    "\n",
    "#把最后一个交易日加入\n",
    "month_date.append(dates[-1])"
   ]
  },
  {
   "cell_type": "code",
   "execution_count": 99,
   "metadata": {},
   "outputs": [],
   "source": [
    "#获取沪深300 的股票列表\n",
    "stocks = index_components('000300.XSHG')"
   ]
  },
  {
   "cell_type": "markdown",
   "metadata": {},
   "source": [
    "###2、特征值都是该月的因子数据（避免下个月在日期列表当中不存在）"
   ]
  },
  {
   "cell_type": "code",
   "execution_count": 100,
   "metadata": {},
   "outputs": [
    {
     "name": "stderr",
     "output_type": "stream",
     "text": [
      "/usr/local/lib/python3.6/site-packages/rqdatac/services/financial.py:339: UserWarning: Panel is  removed after pandas version 0.25.0.the  default value of 'expect_df' will change to True in the future.\n",
      "  warnings.warn(\"Panel is  removed after pandas version 0.25.0.\"\n"
     ]
    }
   ],
   "source": [
    "all_data = pd.DataFrame()\n",
    "#获得沪深300的股票列表\n",
    "for date in month_date:\n",
    "    q = query(\n",
    "        fundamentals.eod_derivative_indicator.pe_ratio, \n",
    "        fundamentals.eod_derivative_indicator.pb_ratio, \n",
    "        fundamentals.eod_derivative_indicator.market_cap, \n",
    "        fundamentals.financial_indicator.ev, \n",
    "        fundamentals.financial_indicator.return_on_asset_net_profit, \n",
    "        fundamentals.financial_indicator.du_return_on_equity, \n",
    "        fundamentals.financial_indicator.earnings_per_share, \n",
    "        fundamentals.income_statement.revenue, \n",
    "        fundamentals.income_statement.total_expense\n",
    "    ).filter(fundamentals.stockcode.in_(stocks))\n",
    "    \n",
    "    #查询因子数据\n",
    "    fund = get_fundamentals(q,entry_date=date).iloc[:,0,:]\n",
    "    \n",
    "    fund['date'] = date\n",
    "    \n",
    "    #进行每月数据拼接\n",
    "    all_data = pd.concat([all_data,fund])"
   ]
  },
  {
   "cell_type": "code",
   "execution_count": 101,
   "metadata": {},
   "outputs": [],
   "source": [
    "#删除缺失值\n",
    "all_data = all_data.dropna()"
   ]
  },
  {
   "cell_type": "code",
   "execution_count": 102,
   "metadata": {},
   "outputs": [],
   "source": [
    "all_data['next_month_return'] = np.nan"
   ]
  },
  {
   "cell_type": "markdown",
   "metadata": {},
   "source": [
    "#1\\\n",
    "获取价格数据计算对应的收益率"
   ]
  },
  {
   "cell_type": "code",
   "execution_count": 103,
   "metadata": {},
   "outputs": [],
   "source": [
    "all_price = pd.DataFrame()\n",
    "for date in month_date:    \n",
    "    price = get_price(stocks,start_date=date,end_date=date,fields='close')\n",
    "    all_price = pd.concat([all_price,price])"
   ]
  },
  {
   "cell_type": "code",
   "execution_count": 104,
   "metadata": {},
   "outputs": [],
   "source": [
    "all_price = all_price.T"
   ]
  },
  {
   "cell_type": "markdown",
   "metadata": {},
   "source": [
    "#2计算收益率"
   ]
  },
  {
   "cell_type": "code",
   "execution_count": 105,
   "metadata": {},
   "outputs": [],
   "source": [
    "for i in range(len(all_price.columns)-1):\n",
    "    #利用每次后一个月的收盘价-循环的这个月的收盘价/循环的这个月的收盘价\n",
    "    all_price.iloc[:,i] = all_price.iloc[:,i+1]/all_price.iloc[:,i] - 1"
   ]
  },
  {
   "cell_type": "code",
   "execution_count": 106,
   "metadata": {},
   "outputs": [],
   "source": [
    "#3将收益率填充到因子对应的下个月收益率列当中"
   ]
  },
  {
   "cell_type": "code",
   "execution_count": 107,
   "metadata": {},
   "outputs": [
    {
     "name": "stderr",
     "output_type": "stream",
     "text": [
      "/usr/local/lib/python3.6/site-packages/ipykernel_launcher.py:5: DeprecationWarning: \n",
      ".ix is deprecated. Please use\n",
      ".loc for label based indexing or\n",
      ".iloc for positional indexing\n",
      "\n",
      "See the documentation here:\n",
      "http://pandas.pydata.org/pandas-docs/stable/indexing.html#ix-indexer-is-deprecated\n",
      "  \"\"\"\n",
      "/usr/local/lib/python3.6/site-packages/ipykernel_launcher.py:9: DeprecationWarning: \n",
      ".ix is deprecated. Please use\n",
      ".loc for label based indexing or\n",
      ".iloc for positional indexing\n",
      "\n",
      "See the documentation here:\n",
      "http://pandas.pydata.org/pandas-docs/stable/indexing.html#ix-indexer-is-deprecated\n",
      "  if __name__ == '__main__':\n"
     ]
    }
   ],
   "source": [
    "for i in range(len(all_data)):\n",
    "    #每个样本填充对应收益率\n",
    "    stock = all_data.index[i]\n",
    "    \n",
    "    date = all_data.ix[i,'date']\n",
    "    \n",
    "    #在all_price里面寻找收益率\n",
    "    if stock in all_price.index and date in all_price.columns:\n",
    "        all_data.ix[i,'next_month_return'] = all_price.loc[stock,date]"
   ]
  },
  {
   "cell_type": "code",
   "execution_count": 108,
   "metadata": {},
   "outputs": [],
   "source": [
    "all_data = all_data.dropna()"
   ]
  },
  {
   "cell_type": "markdown",
   "metadata": {},
   "source": [
    "特征值和目标值处理"
   ]
  },
  {
   "cell_type": "code",
   "execution_count": 109,
   "metadata": {},
   "outputs": [],
   "source": [
    "y = all_data['next_month_return']\n",
    "x = all_data.drop(['next_month_return','date'],axis=1)\n",
    "x_market_cap = x['market_cap']"
   ]
  },
  {
   "cell_type": "code",
   "execution_count": 110,
   "metadata": {},
   "outputs": [],
   "source": [
    "#自己实现标准化\n",
    "def stand(factor):\n",
    "    mean = factor.mean()\n",
    "    std = factor.std()\n",
    "    \n",
    "    return (factor - mean)/std\n",
    "\n",
    "#3、去极值的方法\n",
    "def mad(factor):\n",
    "    #1、\n",
    "    me = np.median(factor)\n",
    "    \n",
    "    #2、3、\n",
    "    mad = np.median(abs(factor - me))\n",
    "    \n",
    "    up = me + (3 * 1.4826 * mad)\n",
    "    down = me - (3 * 1.4826 * mad)\n",
    "    \n",
    "    #利用3倍中位数的值去极值\n",
    "    factor = np.where(factor > up,up,factor)\n",
    "    factor = np.where(factor < down,down,factor)\n",
    "    \n",
    "    return factor"
   ]
  },
  {
   "cell_type": "code",
   "execution_count": 111,
   "metadata": {},
   "outputs": [],
   "source": [
    "for name in x.columns:\n",
    "    x[name] = mad(x[name])\n",
    "    x[name] = stand(x[name])"
   ]
  },
  {
   "cell_type": "code",
   "execution_count": 112,
   "metadata": {},
   "outputs": [
    {
     "data": {
      "text/html": [
       "<div>\n",
       "<style scoped>\n",
       "    .dataframe tbody tr th:only-of-type {\n",
       "        vertical-align: middle;\n",
       "    }\n",
       "\n",
       "    .dataframe tbody tr th {\n",
       "        vertical-align: top;\n",
       "    }\n",
       "\n",
       "    .dataframe thead th {\n",
       "        text-align: right;\n",
       "    }\n",
       "</style>\n",
       "<table border=\"1\" class=\"dataframe\">\n",
       "  <thead>\n",
       "    <tr style=\"text-align: right;\">\n",
       "      <th></th>\n",
       "      <th>earnings_per_share</th>\n",
       "      <th>ev</th>\n",
       "      <th>total_expense</th>\n",
       "      <th>revenue</th>\n",
       "      <th>market_cap</th>\n",
       "      <th>pb_ratio</th>\n",
       "      <th>return_on_asset_net_profit</th>\n",
       "      <th>pe_ratio</th>\n",
       "      <th>du_return_on_equity</th>\n",
       "    </tr>\n",
       "  </thead>\n",
       "  <tbody>\n",
       "    <tr>\n",
       "      <th>000001.XSHE</th>\n",
       "      <td>1.85628</td>\n",
       "      <td>1.81305</td>\n",
       "      <td>1.55742</td>\n",
       "      <td>1.57723</td>\n",
       "      <td>1.88921</td>\n",
       "      <td>-1.0786</td>\n",
       "      <td>-0.633706</td>\n",
       "      <td>-0.843391</td>\n",
       "      <td>1.05891</td>\n",
       "    </tr>\n",
       "    <tr>\n",
       "      <th>000002.XSHE</th>\n",
       "      <td>1.04653</td>\n",
       "      <td>1.77468</td>\n",
       "      <td>1.55742</td>\n",
       "      <td>1.57723</td>\n",
       "      <td>1.88921</td>\n",
       "      <td>-0.361062</td>\n",
       "      <td>-0.25229</td>\n",
       "      <td>-0.502819</td>\n",
       "      <td>0.30657</td>\n",
       "    </tr>\n",
       "    <tr>\n",
       "      <th>000063.XSHE</th>\n",
       "      <td>1.07613</td>\n",
       "      <td>0.127925</td>\n",
       "      <td>1.55742</td>\n",
       "      <td>1.57723</td>\n",
       "      <td>0.101902</td>\n",
       "      <td>-0.633272</td>\n",
       "      <td>0.0584776</td>\n",
       "      <td>-0.352897</td>\n",
       "      <td>0.695783</td>\n",
       "    </tr>\n",
       "    <tr>\n",
       "      <th>000069.XSHE</th>\n",
       "      <td>0.130761</td>\n",
       "      <td>-0.104262</td>\n",
       "      <td>0.627544</td>\n",
       "      <td>0.669116</td>\n",
       "      <td>-0.071852</td>\n",
       "      <td>-0.881046</td>\n",
       "      <td>0.164656</td>\n",
       "      <td>-0.647053</td>\n",
       "      <td>0.443895</td>\n",
       "    </tr>\n",
       "    <tr>\n",
       "      <th>000100.XSHE</th>\n",
       "      <td>-0.410345</td>\n",
       "      <td>-0.0430015</td>\n",
       "      <td>1.55742</td>\n",
       "      <td>1.57723</td>\n",
       "      <td>-0.285442</td>\n",
       "      <td>-0.704076</td>\n",
       "      <td>0.0138433</td>\n",
       "      <td>-0.406361</td>\n",
       "      <td>0.640836</td>\n",
       "    </tr>\n",
       "  </tbody>\n",
       "</table>\n",
       "</div>"
      ],
      "text/plain": [
       "            earnings_per_share         ev total_expense   revenue market_cap  \\\n",
       "000001.XSHE            1.85628    1.81305       1.55742   1.57723    1.88921   \n",
       "000002.XSHE            1.04653    1.77468       1.55742   1.57723    1.88921   \n",
       "000063.XSHE            1.07613   0.127925       1.55742   1.57723   0.101902   \n",
       "000069.XSHE           0.130761  -0.104262      0.627544  0.669116  -0.071852   \n",
       "000100.XSHE          -0.410345 -0.0430015       1.55742   1.57723  -0.285442   \n",
       "\n",
       "             pb_ratio return_on_asset_net_profit  pe_ratio du_return_on_equity  \n",
       "000001.XSHE   -1.0786                  -0.633706 -0.843391             1.05891  \n",
       "000002.XSHE -0.361062                   -0.25229 -0.502819             0.30657  \n",
       "000063.XSHE -0.633272                  0.0584776 -0.352897            0.695783  \n",
       "000069.XSHE -0.881046                   0.164656 -0.647053            0.443895  \n",
       "000100.XSHE -0.704076                  0.0138433 -0.406361            0.640836  "
      ]
     },
     "execution_count": 112,
     "metadata": {},
     "output_type": "execute_result"
    }
   ],
   "source": [
    "x.head()"
   ]
  },
  {
   "cell_type": "code",
   "execution_count": 113,
   "metadata": {},
   "outputs": [],
   "source": [
    "#市值中性化处理\n",
    "#特征值，市值因子（不能是处理过的）,目标其他因子\n",
    "for name in x.columns:\n",
    "    if name == 'market_cap':\n",
    "        continue\n",
    "        \n",
    "    #准备特征值、目标值\n",
    "    y_factor = x[name]\n",
    "    \n",
    "    #线性回归方程建立\n",
    "    lr = LinearRegression()\n",
    "    \n",
    "    lr.fit(x_market_cap.values.reshape(-1,1),y_factor)\n",
    "    \n",
    "    #得出真实值与预测值之间的误差当作新的因子值\n",
    "    y_predict = lr.predict(x_market_cap.values.reshape(-1,1))\n",
    "    \n",
    "    #得出真实值与预测之间的误差当做新的因子值\n",
    "    x[name] = y_factor - y_predict"
   ]
  },
  {
   "cell_type": "code",
   "execution_count": 114,
   "metadata": {},
   "outputs": [],
   "source": [
    "#收益率目标值y\n",
    "y = stand(y)"
   ]
  },
  {
   "cell_type": "code",
   "execution_count": 115,
   "metadata": {},
   "outputs": [
    {
     "data": {
      "text/html": [
       "<div>\n",
       "<style scoped>\n",
       "    .dataframe tbody tr th:only-of-type {\n",
       "        vertical-align: middle;\n",
       "    }\n",
       "\n",
       "    .dataframe tbody tr th {\n",
       "        vertical-align: top;\n",
       "    }\n",
       "\n",
       "    .dataframe thead th {\n",
       "        text-align: right;\n",
       "    }\n",
       "</style>\n",
       "<table border=\"1\" class=\"dataframe\">\n",
       "  <thead>\n",
       "    <tr style=\"text-align: right;\">\n",
       "      <th></th>\n",
       "      <th>earnings_per_share</th>\n",
       "      <th>ev</th>\n",
       "      <th>total_expense</th>\n",
       "      <th>revenue</th>\n",
       "      <th>market_cap</th>\n",
       "      <th>pb_ratio</th>\n",
       "      <th>return_on_asset_net_profit</th>\n",
       "      <th>pe_ratio</th>\n",
       "      <th>du_return_on_equity</th>\n",
       "    </tr>\n",
       "  </thead>\n",
       "  <tbody>\n",
       "    <tr>\n",
       "      <th>000001.XSHE</th>\n",
       "      <td>1.37999</td>\n",
       "      <td>0.170909</td>\n",
       "      <td>0.558199</td>\n",
       "      <td>0.46336</td>\n",
       "      <td>1.88921</td>\n",
       "      <td>-0.448901</td>\n",
       "      <td>-0.515504</td>\n",
       "      <td>-0.456318</td>\n",
       "      <td>0.768662</td>\n",
       "    </tr>\n",
       "    <tr>\n",
       "      <th>000002.XSHE</th>\n",
       "      <td>0.570242</td>\n",
       "      <td>0.132537</td>\n",
       "      <td>0.558199</td>\n",
       "      <td>0.46336</td>\n",
       "      <td>1.88921</td>\n",
       "      <td>0.268635</td>\n",
       "      <td>-0.134087</td>\n",
       "      <td>-0.115746</td>\n",
       "      <td>0.0163206</td>\n",
       "    </tr>\n",
       "    <tr>\n",
       "      <th>000063.XSHE</th>\n",
       "      <td>1.05044</td>\n",
       "      <td>0.0393489</td>\n",
       "      <td>1.50352</td>\n",
       "      <td>1.51714</td>\n",
       "      <td>0.101902</td>\n",
       "      <td>-0.599306</td>\n",
       "      <td>0.0648534</td>\n",
       "      <td>-0.332019</td>\n",
       "      <td>0.680127</td>\n",
       "    </tr>\n",
       "    <tr>\n",
       "      <th>000069.XSHE</th>\n",
       "      <td>0.148876</td>\n",
       "      <td>-0.0418063</td>\n",
       "      <td>0.665547</td>\n",
       "      <td>0.711479</td>\n",
       "      <td>-0.071852</td>\n",
       "      <td>-0.904995</td>\n",
       "      <td>0.16016</td>\n",
       "      <td>-0.661775</td>\n",
       "      <td>0.454934</td>\n",
       "    </tr>\n",
       "    <tr>\n",
       "      <th>000100.XSHE</th>\n",
       "      <td>-0.338382</td>\n",
       "      <td>0.205111</td>\n",
       "      <td>1.70839</td>\n",
       "      <td>1.74552</td>\n",
       "      <td>-0.285442</td>\n",
       "      <td>-0.799217</td>\n",
       "      <td>-0.004016</td>\n",
       "      <td>-0.464845</td>\n",
       "      <td>0.68469</td>\n",
       "    </tr>\n",
       "  </tbody>\n",
       "</table>\n",
       "</div>"
      ],
      "text/plain": [
       "            earnings_per_share         ev total_expense   revenue market_cap  \\\n",
       "000001.XSHE            1.37999   0.170909      0.558199   0.46336    1.88921   \n",
       "000002.XSHE           0.570242   0.132537      0.558199   0.46336    1.88921   \n",
       "000063.XSHE            1.05044  0.0393489       1.50352   1.51714   0.101902   \n",
       "000069.XSHE           0.148876 -0.0418063      0.665547  0.711479  -0.071852   \n",
       "000100.XSHE          -0.338382   0.205111       1.70839   1.74552  -0.285442   \n",
       "\n",
       "             pb_ratio return_on_asset_net_profit  pe_ratio du_return_on_equity  \n",
       "000001.XSHE -0.448901                  -0.515504 -0.456318            0.768662  \n",
       "000002.XSHE  0.268635                  -0.134087 -0.115746           0.0163206  \n",
       "000063.XSHE -0.599306                  0.0648534 -0.332019            0.680127  \n",
       "000069.XSHE -0.904995                    0.16016 -0.661775            0.454934  \n",
       "000100.XSHE -0.799217                  -0.004016 -0.464845             0.68469  "
      ]
     },
     "execution_count": 115,
     "metadata": {},
     "output_type": "execute_result"
    }
   ],
   "source": [
    "#建立特征值因子数据（处理过的）与目标值（标准化）下期收益率之间的回归方程\n",
    "x.head()"
   ]
  },
  {
   "cell_type": "code",
   "execution_count": 116,
   "metadata": {},
   "outputs": [],
   "source": [
    "lr = LinearRegression()"
   ]
  },
  {
   "cell_type": "code",
   "execution_count": 117,
   "metadata": {},
   "outputs": [
    {
     "data": {
      "text/plain": [
       "LinearRegression(copy_X=True, fit_intercept=True, n_jobs=None, normalize=False)"
      ]
     },
     "execution_count": 117,
     "metadata": {},
     "output_type": "execute_result"
    }
   ],
   "source": [
    "lr.fit(x,y)"
   ]
  },
  {
   "cell_type": "code",
   "execution_count": 118,
   "metadata": {},
   "outputs": [
    {
     "data": {
      "text/plain": [
       "array([ 0.23539855, -0.00391808, -0.24177885,  0.14179757,  0.03446925,\n",
       "        0.08535851,  0.10545642,  0.02562047, -0.38349568])"
      ]
     },
     "execution_count": 118,
     "metadata": {},
     "output_type": "execute_result"
    }
   ],
   "source": [
    "lr.coef_"
   ]
  },
  {
   "cell_type": "code",
   "execution_count": null,
   "metadata": {},
   "outputs": [],
   "source": []
  }
 ],
 "metadata": {
  "kernelspec": {
   "display_name": "Python 3",
   "language": "python",
   "name": "python3"
  },
  "language_info": {
   "codemirror_mode": {
    "name": "ipython",
    "version": 3
   },
   "file_extension": ".py",
   "mimetype": "text/x-python",
   "name": "python",
   "nbconvert_exporter": "python",
   "pygments_lexer": "ipython3",
   "version": "3.6.8"
  }
 },
 "nbformat": 4,
 "nbformat_minor": 2
}
