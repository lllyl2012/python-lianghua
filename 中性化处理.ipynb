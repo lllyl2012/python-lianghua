{
 "cells": [
  {
   "cell_type": "code",
   "execution_count": null,
   "metadata": {},
   "outputs": [],
   "source": [
    "#获得两个因子的数据\n",
    "q = query(fundamentals.eod_derivative_indicator.pb_ratio),\n",
    "    fundamentals.eod_derivative_indicator.market_cap)\n",
    "    \n",
    "#获取的是某一天的横截面数据\n",
    "factor = get_fundamentals(q,entry_date='2018-01-03')[:,0,:]\n",
    "\n",
    "#先对pb_ratio进行去极值标准化处理\n",
    "factor['pb_ratio'] = mad(factor['pb_ratio'])\n",
    "factor['pb_ratio'] = stand(factor['pb_ratio'])\n",
    "\n",
    "#确定回归的数据\n",
    "#x：市值\n",
    "#y:因子数据\n",
    "x = factor['market_cap'].reshape(-1,1)\n",
    "y = factor['pb_ratio']\n",
    "\n",
    "#建立回归方程并预测\n",
    "lr = LinearRegression()\n",
    "lr.fit(x,y)\n",
    "y_predict = lr.predict(x)\n",
    "\n",
    "#去除线性的关系，留下误差作为该因子的值\n",
    "factor['pb_ratio'] = y-y_predict\n"
   ]
  }
 ],
 "metadata": {
  "kernelspec": {
   "display_name": "Python 3",
   "language": "python",
   "name": "python3"
  },
  "language_info": {
   "codemirror_mode": {
    "name": "ipython",
    "version": 3
   },
   "file_extension": ".py",
   "mimetype": "text/x-python",
   "name": "python",
   "nbconvert_exporter": "python",
   "pygments_lexer": "ipython3",
   "version": "3.6.8"
  }
 },
 "nbformat": 4,
 "nbformat_minor": 2
}
